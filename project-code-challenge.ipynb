{
 "cells": [
  {
   "cell_type": "markdown",
   "metadata": {},
   "source": [
    "<img src=\"http://imgur.com/1ZcRyrc.png\" style=\"float: left; margin: 20px; height: 55px\">\n",
    "\n",
    "# Project 1: Python Coding Exercises\n",
    "\n",
    "_Authors: Joseph Nelson (DC) _\n",
    "\n",
    "---"
   ]
  },
  {
   "cell_type": "markdown",
   "metadata": {},
   "source": [
    "The following code challenges are drawn from common exercises used in technical interviews.\n",
    "\n",
    "Please note that there may be several ways to approach each challenge. If you get stuck, try mapping out your approach in pseudocode first. Finally, while solutions to problems like these may be found online, remember that if you copy/paste code that you can't explain, you'll be missing out on the point of the project. The only way to truly learn a new skill is through practice, trial, and error - we can only help you improve by understanding where you are having trouble."
   ]
  },
  {
   "cell_type": "markdown",
   "metadata": {},
   "source": [
    "### Challenge 1: Largest Palindrome\n",
    "A palindromic number reads the same both ways. For example, 1234321 is a palindrome. The largest palindrome made from the product of two two-digit numbers is 9009 = 91 × 99. Find the largest palindrome made from the product of two three-digit numbers. Afterward, write a brief explanation walking through your code's logic in markdown."
   ]
  },
  {
   "cell_type": "code",
   "execution_count": 3,
   "metadata": {},
   "outputs": [
    {
     "data": {
      "text/plain": [
       "906609"
      ]
     },
     "execution_count": 3,
     "metadata": {},
     "output_type": "execute_result"
    }
   ],
   "source": [
    "k4=[]\n",
    "#creating range for 2 variable, which is i and j\n",
    "\n",
    "for i in range(1,1000):\n",
    "  for j in range(1,1000):\n",
    "    \n",
    "#using for loop to let the system multiply for each number\n",
    "#the logic of multiplication is at k1, where it multiply 2 variable\n",
    "\n",
    "    k1=i*j\n",
    "    \n",
    "#k2 is a process where we convert int to str\n",
    "\n",
    "    k2 = str(k1)\n",
    "    \n",
    "#k3 process of reversing the value \n",
    "\n",
    "    k3 = k2[::-1]\n",
    "    \n",
    "#if statement is to check the variable where k2(reverse) is equal to exact value and plug in the values into k4\n",
    "\n",
    "    if k2==k3:\n",
    "      k4.append(k1)\n",
    "    \n",
    "#print max value in k4\n",
    "\n",
    "max(k4)"
   ]
  },
  {
   "cell_type": "markdown",
   "metadata": {},
   "source": [
    "\n",
    "### Challenge 2: Summation of Primes\n",
    "The sum of the primes below 10 is 2 + 3 + 5 + 7 = 17. Find the sum of all the primes below 2,000. Afterward, write a brief explanation walking through your code's logic in markdown."
   ]
  },
  {
   "cell_type": "code",
   "execution_count": 6,
   "metadata": {},
   "outputs": [
    {
     "name": "stdout",
     "output_type": "stream",
     "text": [
      "Sum of prime numbers below 2000 are 277050\n",
      "Number of elements prime number below 2000 is 303\n"
     ]
    }
   ],
   "source": [
    "#Making an empty list which denote as p\n",
    "p=[]\n",
    "\n",
    "#define the range\n",
    "for num in range(2,2001):\n",
    "    \n",
    "    # all prime numbers are greater than 1\n",
    "    if num>1:\n",
    "        \n",
    "        #Prime check function using Fibonacci Series in Phyton\n",
    "        for i in range(2, num):\n",
    "            if (num % i) == 0 and num!=i:\n",
    "            #if its is devisible with diff number and remainder == 0 hence it is not a prime number\n",
    "            \n",
    "                break\n",
    "                \n",
    "        else:\n",
    "            p.append(num)\n",
    "            #insert value num into the empty list p\n",
    "\n",
    "#print the result\n",
    "print(\"Sum of prime numbers below 2000 are\",sum(p))\n",
    "print(\"Number of elements prime number below 2000 is\",len(p))"
   ]
  },
  {
   "cell_type": "markdown",
   "metadata": {},
   "source": [
    "### Challenge 3: Multiples of 3 and 5\n",
    "If we list all of the natural numbers below 10 that are multiples of 3 or 5, we get 3, 5, 6, and 9. The sum of these multiples is 23. Find the sum of all the multiples of 3 and 5 below 1,000. Afterward, write a brief explanation walking through your code's logic in markdown."
   ]
  },
  {
   "cell_type": "code",
   "execution_count": 3,
   "metadata": {},
   "outputs": [
    {
     "name": "stdout",
     "output_type": "stream",
     "text": [
      "233168\n"
     ]
    }
   ],
   "source": [
    "Totsum = 0\n",
    "# set the value to 0\n",
    "\n",
    "for i in range(1, 1000):\n",
    "#set range of loop from 1 to 1000\n",
    "\n",
    "    if (i % 3 == 0 or i % 5 == 0):\n",
    "    #The logic of the multiples and use 'or' to collect each of correct datas\n",
    "    \n",
    "        Totsum = Totsum + i\n",
    "        \n",
    "print(Totsum)"
   ]
  },
  {
   "cell_type": "markdown",
   "metadata": {},
   "source": [
    "### Challenge 4: String Compressor\n",
    "Implement a method to perform basic string compression using the counts of repeated characters. (This is called run-length encoding.) For example, the string \"aabcccccaaa\" would become a2b1c5a3. If the “compressed” string would not become smaller than the original string, your method should return the original string. You can assume the string has only uppercase and lowercase letters (a–z). Specify whether your solution is case sensitive or case insensitive and what you would need to change to make it the other. Afterward, write a brief explanation walking through your code's logic in markdown."
   ]
  },
  {
   "cell_type": "code",
   "execution_count": 5,
   "metadata": {},
   "outputs": [
    {
     "name": "stdout",
     "output_type": "stream",
     "text": [
      "5A3a5b3c3D2d\n"
     ]
    }
   ],
   "source": [
    "def encode(message):\n",
    "#Create a fucntion called encoded\n",
    "\n",
    "    encoded_message = \"\"\n",
    "    #String variable to insert the sum cha\n",
    "    \n",
    "    i = 0\n",
    "    #Start the iteration from index == 0\n",
    "   \n",
    "    while (i <= len(message)-1):\n",
    "    #Set the loop for every word\n",
    "    \n",
    "        count = 1\n",
    "        #Start the count from 1 \n",
    "        \n",
    "        ch = message[i]\n",
    "        j = i\n",
    "        #if same then insert to variable ch\n",
    "        \n",
    "        while (j < len(message)-1):\n",
    "        # loop again to find how many char are in that words\n",
    "        \n",
    "            if (message[j] == message[j+1]):\n",
    "                count = count+1\n",
    "                j = j+1\n",
    "                #if many, than into the condition and sum up\n",
    "                \n",
    "            else:\n",
    "                break\n",
    "        encoded_message=encoded_message+str(count)+ch\n",
    "        i = j+1\n",
    "        #then total up from the loop into one variable\n",
    "        \n",
    "    return encoded_message\n",
    "    #return the encoded_message\n",
    "  \n",
    "#The coding is case sensitive.\n",
    "encoded_message=encode(\"AAAAAaaabbbbbcccDDDdd\")\n",
    "# use the function above\n",
    "\n",
    "print(encoded_message)\n",
    "#print the result"
   ]
  },
  {
   "cell_type": "markdown",
   "metadata": {},
   "source": [
    "### *BONUS* Challenge: FizzBuzz\n",
    "Write a program that prints all of the numbers from 1 to 100. For multiples of 3, instead of the number, print \"Fizz;\" for multiples of 5, print \"Buzz.\" For numbers that are multiples of both 3 and 5, print \"FizzBuzz.\" Afterward, write a brief explanation walking through your code's logic in markdown."
   ]
  },
  {
   "cell_type": "code",
   "execution_count": 7,
   "metadata": {},
   "outputs": [
    {
     "name": "stdout",
     "output_type": "stream",
     "text": [
      "1\n",
      "2\n",
      "FizzBuzz\n",
      "4\n",
      "Buzz\n",
      "FizzBuzz\n",
      "7\n",
      "8\n",
      "FizzBuzz\n",
      "Buzz\n",
      "11\n",
      "FizzBuzz\n",
      "13\n",
      "14\n",
      "FizzBuzz\n",
      "16\n",
      "17\n",
      "FizzBuzz\n",
      "19\n",
      "Buzz\n",
      "FizzBuzz\n",
      "22\n",
      "23\n",
      "FizzBuzz\n",
      "Buzz\n",
      "26\n",
      "FizzBuzz\n",
      "28\n",
      "29\n",
      "FizzBuzz\n",
      "31\n",
      "32\n",
      "FizzBuzz\n",
      "34\n",
      "Buzz\n",
      "FizzBuzz\n",
      "37\n",
      "38\n",
      "FizzBuzz\n",
      "Buzz\n",
      "41\n",
      "FizzBuzz\n",
      "43\n",
      "44\n",
      "FizzBuzz\n",
      "46\n",
      "47\n",
      "FizzBuzz\n",
      "49\n",
      "Buzz\n",
      "FizzBuzz\n",
      "52\n",
      "53\n",
      "FizzBuzz\n",
      "Buzz\n",
      "56\n",
      "FizzBuzz\n",
      "58\n",
      "59\n",
      "FizzBuzz\n",
      "61\n",
      "62\n",
      "FizzBuzz\n",
      "64\n",
      "Buzz\n",
      "FizzBuzz\n",
      "67\n",
      "68\n",
      "FizzBuzz\n",
      "Buzz\n",
      "71\n",
      "FizzBuzz\n",
      "73\n",
      "74\n",
      "FizzBuzz\n",
      "76\n",
      "77\n",
      "FizzBuzz\n",
      "79\n",
      "Buzz\n",
      "FizzBuzz\n",
      "82\n",
      "83\n",
      "FizzBuzz\n",
      "Buzz\n",
      "86\n",
      "FizzBuzz\n",
      "88\n",
      "89\n",
      "FizzBuzz\n",
      "91\n",
      "92\n",
      "FizzBuzz\n",
      "94\n",
      "Buzz\n",
      "FizzBuzz\n",
      "97\n",
      "98\n",
      "FizzBuzz\n",
      "Buzz\n"
     ]
    }
   ],
   "source": [
    "#Set range of loop from 1 to 101 to ensure the data printed end at 100\n",
    "for num in range(1,101):\n",
    "    \n",
    "    #The logic of the data is, if it is devisible to value 3 & 5 print FizzBuzz\n",
    "    if num%3==0 & num%5==0:\n",
    "        print('FizzBuzz')\n",
    "        \n",
    "    elif num%5==0:\n",
    "        #The logic of the data is, if it is devisible to value 3 & 5 print Buzz\n",
    "        print('Buzz')\n",
    "        \n",
    "    elif num%3==0:\n",
    "        #The logic of the data is, if it is devisible to value 3 & 5 print Fizz\n",
    "        print('Fizz')\n",
    "        \n",
    "    else:\n",
    "        #If non of the num value is == to logic above it will print the num value\n",
    "        print(num)"
   ]
  },
  {
   "cell_type": "code",
   "execution_count": null,
   "metadata": {},
   "outputs": [],
   "source": []
  }
 ],
 "metadata": {
  "anaconda-cloud": {},
  "kernelspec": {
   "display_name": "Python 3",
   "language": "python",
   "name": "python3"
  },
  "language_info": {
   "codemirror_mode": {
    "name": "ipython",
    "version": 3
   },
   "file_extension": ".py",
   "mimetype": "text/x-python",
   "name": "python",
   "nbconvert_exporter": "python",
   "pygments_lexer": "ipython3",
   "version": "3.8.8"
  }
 },
 "nbformat": 4,
 "nbformat_minor": 2
}
